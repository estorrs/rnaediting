{
 "cells": [
  {
   "cell_type": "code",
   "execution_count": 1,
   "metadata": {},
   "outputs": [],
   "source": [
    "import pandas as pd"
   ]
  },
  {
   "cell_type": "code",
   "execution_count": null,
   "metadata": {},
   "outputs": [],
   "source": [
    "df1 = pd.read_csv('/gscmnt/gc2508/dinglab/estorrs/rnaediting/mgi/temp.txt', sep='\\t', header=None)\n",
    "df2 = pd.read_csv('/gscmnt/gc2508/dinglab/estorrs/rnaediting/CPTAC3.RNA-Seq.TA.samples.txt', sep='\\t', header=None)"
   ]
  },
  {
   "cell_type": "code",
   "execution_count": null,
   "metadata": {},
   "outputs": [],
   "source": [
    "df1.head()"
   ]
  },
  {
   "cell_type": "code",
   "execution_count": null,
   "metadata": {},
   "outputs": [],
   "source": [
    "df2.head()"
   ]
  },
  {
   "cell_type": "code",
   "execution_count": null,
   "metadata": {},
   "outputs": [],
   "source": [
    "df1.columns = ['sample_id', 'sample', 2,3,4,'fp',6,7,8,'uuid',10]\n",
    "df2.columns = ['sample']"
   ]
  },
  {
   "cell_type": "code",
   "execution_count": null,
   "metadata": {},
   "outputs": [],
   "source": [
    "df1.head()"
   ]
  },
  {
   "cell_type": "code",
   "execution_count": null,
   "metadata": {},
   "outputs": [],
   "source": [
    "merged = df2.merge(df1, on='sample')"
   ]
  },
  {
   "cell_type": "code",
   "execution_count": null,
   "metadata": {},
   "outputs": [],
   "source": [
    "merged.head()"
   ]
  },
  {
   "cell_type": "code",
   "execution_count": null,
   "metadata": {},
   "outputs": [],
   "source": [
    "merged.shape"
   ]
  },
  {
   "cell_type": "code",
   "execution_count": null,
   "metadata": {},
   "outputs": [],
   "source": [
    "df2.shape"
   ]
  },
  {
   "cell_type": "code",
   "execution_count": null,
   "metadata": {},
   "outputs": [],
   "source": [
    "len(set(merged['sample']))"
   ]
  },
  {
   "cell_type": "code",
   "execution_count": null,
   "metadata": {},
   "outputs": [],
   "source": [
    "merged = merged[['sample', 'sample_id', 'fp', 'uuid']]"
   ]
  },
  {
   "cell_type": "code",
   "execution_count": null,
   "metadata": {},
   "outputs": [],
   "source": [
    "merged.head()"
   ]
  },
  {
   "cell_type": "code",
   "execution_count": null,
   "metadata": {},
   "outputs": [],
   "source": [
    "merged.to_csv('/gscmnt/gc2508/dinglab/estorrs/rnaediting/mgi/mgi.cptac3.rna-seq.ta.samples.tsv', sep='\\t',\n",
    "             header=None, index=None)"
   ]
  },
  {
   "cell_type": "code",
   "execution_count": null,
   "metadata": {},
   "outputs": [],
   "source": []
  },
  {
   "cell_type": "code",
   "execution_count": null,
   "metadata": {},
   "outputs": [],
   "source": []
  },
  {
   "cell_type": "code",
   "execution_count": null,
   "metadata": {},
   "outputs": [],
   "source": [
    "df1 = pd.read_csv('/gscmnt/gc2508/dinglab/estorrs/rnaediting/katmai/temp.txt', sep='\\t', header=None)\n",
    "df1.columns = ['sample_id', 'sample', 2,3,4,'fp',6,7,8,'uuid',10]\n"
   ]
  },
  {
   "cell_type": "code",
   "execution_count": null,
   "metadata": {},
   "outputs": [],
   "source": [
    "katmai_merged = df2.merge(df1, on='sample')"
   ]
  },
  {
   "cell_type": "code",
   "execution_count": null,
   "metadata": {},
   "outputs": [],
   "source": [
    "len(set(katmai_merged['sample']))"
   ]
  },
  {
   "cell_type": "code",
   "execution_count": null,
   "metadata": {},
   "outputs": [],
   "source": [
    "set(katmai_merged['sample']) - set(merged['sample'])"
   ]
  },
  {
   "cell_type": "markdown",
   "metadata": {},
   "source": [
    "nothing on katmai that's not on mgi"
   ]
  },
  {
   "cell_type": "code",
   "execution_count": null,
   "metadata": {},
   "outputs": [],
   "source": [
    "df1 = pd.read_csv('/gscmnt/gc2508/dinglab/estorrs/rnaediting/denali/temp.txt', sep='\\t', header=None)\n",
    "df1.columns = ['sample_id', 'sample', 2,3,4,'fp',6,7,8,'uuid',10]"
   ]
  },
  {
   "cell_type": "code",
   "execution_count": null,
   "metadata": {},
   "outputs": [],
   "source": [
    "denali_merged = df2.merge(df1, on='sample')"
   ]
  },
  {
   "cell_type": "code",
   "execution_count": null,
   "metadata": {},
   "outputs": [],
   "source": [
    "len(set(denali_merged['sample']))"
   ]
  },
  {
   "cell_type": "code",
   "execution_count": null,
   "metadata": {},
   "outputs": [],
   "source": [
    "set(denali_merged['sample']) - set(merged['sample'])"
   ]
  },
  {
   "cell_type": "code",
   "execution_count": null,
   "metadata": {},
   "outputs": [],
   "source": []
  },
  {
   "cell_type": "code",
   "execution_count": null,
   "metadata": {},
   "outputs": [],
   "source": []
  },
  {
   "cell_type": "code",
   "execution_count": null,
   "metadata": {},
   "outputs": [],
   "source": []
  },
  {
   "cell_type": "markdown",
   "metadata": {},
   "source": [
    "# pair up fastqs"
   ]
  },
  {
   "cell_type": "code",
   "execution_count": null,
   "metadata": {},
   "outputs": [],
   "source": [
    "import os"
   ]
  },
  {
   "cell_type": "code",
   "execution_count": null,
   "metadata": {},
   "outputs": [],
   "source": [
    "DIR = '/gscmnt/gc2508/dinglab/estorrs/data/rnaediting/fastqs/'\n",
    "fps = [DIR + fp for fp in os.listdir(DIR)]"
   ]
  },
  {
   "cell_type": "code",
   "execution_count": null,
   "metadata": {},
   "outputs": [],
   "source": [
    "tups = []\n",
    "\n",
    "for fp in fps:\n",
    "    if '.R1.' in fp:\n",
    "        for fp_2 in fps:\n",
    "            if fp_2.replace('.R2.', '.R1.') == fp and fp != fp_2:\n",
    "                tups.append((fp, fp_2))"
   ]
  },
  {
   "cell_type": "code",
   "execution_count": null,
   "metadata": {},
   "outputs": [],
   "source": [
    "tups[:5]"
   ]
  },
  {
   "cell_type": "code",
   "execution_count": null,
   "metadata": {},
   "outputs": [],
   "source": [
    "len(tups)"
   ]
  },
  {
   "cell_type": "code",
   "execution_count": null,
   "metadata": {},
   "outputs": [],
   "source": [
    "s = ''\n",
    "for fp1, fp2 in tups:\n",
    "    s += f'{fp1}\\t{fp2}\\n'\n",
    "\n",
    "f = open('/gscmnt/gc2508/dinglab/estorrs/rnaediting/mgi/paired_fastqs.tsv', 'w')\n",
    "f.write(s)\n",
    "f.close()"
   ]
  },
  {
   "cell_type": "code",
   "execution_count": null,
   "metadata": {},
   "outputs": [],
   "source": []
  },
  {
   "cell_type": "code",
   "execution_count": null,
   "metadata": {},
   "outputs": [],
   "source": []
  },
  {
   "cell_type": "code",
   "execution_count": null,
   "metadata": {},
   "outputs": [],
   "source": []
  },
  {
   "cell_type": "markdown",
   "metadata": {},
   "source": [
    "## create yaml cwl configs"
   ]
  },
  {
   "cell_type": "code",
   "execution_count": 2,
   "metadata": {},
   "outputs": [],
   "source": [
    "import re\n",
    "import os\n",
    "\n",
    "import yaml"
   ]
  },
  {
   "cell_type": "code",
   "execution_count": 3,
   "metadata": {},
   "outputs": [],
   "source": [
    "threads = 10\n",
    "compressed_input = True\n",
    "genome_dir = '/gscmnt/gc2508/dinglab/estorrs/cromwell_sandbox/results/gneiss_generate_genome_dir.cwl/18bd05da-dbc9-4742-a210-8129743e1a2b/call-gneiss_generate_genome_dir.cwl/execution/genome_dir'"
   ]
  },
  {
   "cell_type": "code",
   "execution_count": 4,
   "metadata": {},
   "outputs": [
    {
     "data": {
      "text/plain": [
       "432"
      ]
     },
     "execution_count": 4,
     "metadata": {},
     "output_type": "execute_result"
    }
   ],
   "source": [
    "DIR = '/gscmnt/gc2508/dinglab/estorrs/data/rnaediting/fastqs/'\n",
    "fps = [DIR + fp for fp in os.listdir(DIR)]\n",
    "\n",
    "tups = []\n",
    "\n",
    "for fp in fps:\n",
    "    if '.R1.' in fp:\n",
    "        for fp_2 in fps:\n",
    "            if fp_2.replace('.R2.', '.R1.') == fp and fp != fp_2:\n",
    "                tups.append((fp, fp_2))\n",
    "                \n",
    "len(tups)"
   ]
  },
  {
   "cell_type": "code",
   "execution_count": 5,
   "metadata": {},
   "outputs": [],
   "source": [
    "sample_to_config = {}\n",
    "for r1, r2 in tups:\n",
    "    d = {\n",
    "        'threads': threads,\n",
    "        'compressed_input': compressed_input,\n",
    "        'genome_dir': {\n",
    "            'class': 'Directory',\n",
    "            'path': genome_dir\n",
    "        },\n",
    "        'read_1_fastq': {\n",
    "            'class': 'File',\n",
    "            'path': r1\n",
    "        },\n",
    "        'read_2_fastq': {\n",
    "            'class': 'File',\n",
    "            'path': r2\n",
    "        }\n",
    "    }\n",
    "    \n",
    "    sample = r1.split('/')[-1]\n",
    "    sample = re.sub(r'^(.*)\\.RNA-Seq\\.R.\\.(.)\\.fastq$', r'\\1.\\2', sample)\n",
    "    \n",
    "    sample_to_config[sample] = d"
   ]
  },
  {
   "cell_type": "code",
   "execution_count": 6,
   "metadata": {},
   "outputs": [
    {
     "data": {
      "text/plain": [
       "432"
      ]
     },
     "execution_count": 6,
     "metadata": {},
     "output_type": "execute_result"
    }
   ],
   "source": [
    "len(sample_to_config.keys())"
   ]
  },
  {
   "cell_type": "code",
   "execution_count": 7,
   "metadata": {},
   "outputs": [],
   "source": [
    "for k, v in sample_to_config.items():\n",
    "    with open(f'/gscmnt/gc2508/dinglab/estorrs/rnaediting/mgi/alignment/configs/{k}.alignment.yaml', 'w') as outfile:\n",
    "        yaml.dump(v, outfile, default_flow_style=False)"
   ]
  },
  {
   "cell_type": "code",
   "execution_count": null,
   "metadata": {},
   "outputs": [],
   "source": []
  },
  {
   "cell_type": "code",
   "execution_count": null,
   "metadata": {},
   "outputs": [],
   "source": []
  },
  {
   "cell_type": "markdown",
   "metadata": {},
   "source": [
    "## create mgi bsub commands"
   ]
  },
  {
   "cell_type": "code",
   "execution_count": 8,
   "metadata": {},
   "outputs": [],
   "source": [
    "config_dir = '/gscmnt/gc2508/dinglab/estorrs/rnaediting/mgi/alignment/configs/'\n",
    "cromwell_config = '/gscmnt/gc2508/dinglab/estorrs/rnaediting/mgi/alignment/cromwell.config'\n",
    "log_prefix = '/gscmnt/gc2508/dinglab/estorrs/data/rnaediting/cwl/alignment/logs/'"
   ]
  },
  {
   "cell_type": "code",
   "execution_count": 9,
   "metadata": {},
   "outputs": [
    {
     "data": {
      "text/plain": [
       "432"
      ]
     },
     "execution_count": 9,
     "metadata": {},
     "output_type": "execute_result"
    }
   ],
   "source": [
    "fps = [config_dir + fp for fp in os.listdir(config_dir)]\n",
    "len(fps)"
   ]
  },
  {
   "cell_type": "code",
   "execution_count": 10,
   "metadata": {},
   "outputs": [
    {
     "data": {
      "text/plain": [
       "['/gscmnt/gc2508/dinglab/estorrs/rnaediting/mgi/alignment/configs/C3L-00001.A.alignment.yaml',\n",
       " '/gscmnt/gc2508/dinglab/estorrs/rnaediting/mgi/alignment/configs/C3L-00001.T.alignment.yaml',\n",
       " '/gscmnt/gc2508/dinglab/estorrs/rnaediting/mgi/alignment/configs/C3L-00004.N.alignment.yaml',\n",
       " '/gscmnt/gc2508/dinglab/estorrs/rnaediting/mgi/alignment/configs/C3L-00004.T.alignment.yaml',\n",
       " '/gscmnt/gc2508/dinglab/estorrs/rnaediting/mgi/alignment/configs/C3L-00006.A.alignment.yaml',\n",
       " '/gscmnt/gc2508/dinglab/estorrs/rnaediting/mgi/alignment/configs/C3L-00006.T.alignment.yaml',\n",
       " '/gscmnt/gc2508/dinglab/estorrs/rnaediting/mgi/alignment/configs/C3L-00009.A.alignment.yaml',\n",
       " '/gscmnt/gc2508/dinglab/estorrs/rnaediting/mgi/alignment/configs/C3L-00009.T.alignment.yaml',\n",
       " '/gscmnt/gc2508/dinglab/estorrs/rnaediting/mgi/alignment/configs/C3L-00010.A.alignment.yaml',\n",
       " '/gscmnt/gc2508/dinglab/estorrs/rnaediting/mgi/alignment/configs/C3L-00010.T.alignment.yaml']"
      ]
     },
     "execution_count": 10,
     "metadata": {},
     "output_type": "execute_result"
    }
   ],
   "source": [
    "# sort filepaths. only necessary for test runs\n",
    "fps = sorted(fps)\n",
    "fps[:10]"
   ]
  },
  {
   "cell_type": "code",
   "execution_count": 11,
   "metadata": {},
   "outputs": [],
   "source": [
    "bsub_commands = []\n",
    "for fp in fps:\n",
    "    sample = fp.split('/')[-1]\n",
    "    sample = log_prefix + sample.replace('.yaml', '.log')\n",
    "    command = \"bsub -q research-hpc -o \" + sample + \" -a 'docker(registry.gsc.wustl.edu/apipe-builder/genome_perl_environment:5)' \\\n",
    "/usr/bin/java -Dconfig.file=\" + cromwell_config + \" -jar /opt/cromwell.jar run -t cwl -i \\\n",
    "\" + fp + \" /gscmnt/gc2508/dinglab/estorrs/gneiss/cwl/gneiss_align.cwl\"\n",
    "    bsub_commands.append(command)"
   ]
  },
  {
   "cell_type": "code",
   "execution_count": 12,
   "metadata": {},
   "outputs": [
    {
     "data": {
      "text/plain": [
       "\"bsub -q research-hpc -o /gscmnt/gc2508/dinglab/estorrs/data/rnaediting/cwl/alignment/logs/C3L-00001.A.alignment.log -a 'docker(registry.gsc.wustl.edu/apipe-builder/genome_perl_environment:5)' /usr/bin/java -Dconfig.file=/gscmnt/gc2508/dinglab/estorrs/rnaediting/mgi/alignment/cromwell.config -jar /opt/cromwell.jar run -t cwl -i /gscmnt/gc2508/dinglab/estorrs/rnaediting/mgi/alignment/configs/C3L-00001.A.alignment.yaml /gscmnt/gc2508/dinglab/estorrs/gneiss/cwl/gneiss_align.cwl\""
      ]
     },
     "execution_count": 12,
     "metadata": {},
     "output_type": "execute_result"
    }
   ],
   "source": [
    "bsub_commands[0]"
   ]
  },
  {
   "cell_type": "code",
   "execution_count": 13,
   "metadata": {},
   "outputs": [],
   "source": [
    "lines = '\\n'.join(bsub_commands) + '\\n'"
   ]
  },
  {
   "cell_type": "code",
   "execution_count": 14,
   "metadata": {},
   "outputs": [],
   "source": [
    "f = open('/gscmnt/gc2508/dinglab/estorrs/rnaediting/mgi/alignment/bsub_commands.sh', 'w')\n",
    "f.write(lines)\n",
    "f.close()"
   ]
  },
  {
   "cell_type": "code",
   "execution_count": null,
   "metadata": {},
   "outputs": [],
   "source": []
  },
  {
   "cell_type": "code",
   "execution_count": null,
   "metadata": {},
   "outputs": [],
   "source": []
  },
  {
   "cell_type": "markdown",
   "metadata": {},
   "source": [
    "### write sample to bam location file"
   ]
  },
  {
   "cell_type": "code",
   "execution_count": 44,
   "metadata": {},
   "outputs": [],
   "source": [
    "import os\n",
    "import re\n",
    "\n",
    "def listfiles(folder, regex=None):\n",
    "    for root, folders, files in os.walk(folder):\n",
    "        for filename in folders + files:\n",
    "            if regex is None:\n",
    "                yield os.path.join(root, filename)\n",
    "            elif re.findall(regex, filename):\n",
    "                yield os.path.join(root, filename)\n",
    "            "
   ]
  },
  {
   "cell_type": "code",
   "execution_count": 45,
   "metadata": {},
   "outputs": [],
   "source": [
    "REPO_DIRECTORY = '/gscmnt/gc2508/dinglab/estorrs/rnaediting/'\n",
    "DATA_DIRECTORY = '/gscmnt/gc2508/dinglab/estorrs/data/rnaediting/'"
   ]
  },
  {
   "cell_type": "code",
   "execution_count": 48,
   "metadata": {},
   "outputs": [],
   "source": [
    "CWL_ALIGNMENT_RESULTS_DIRECTORY = DATA_DIRECTORY + 'cwl/alignment/results/'\n",
    "OUTPUT_FP = REPO_DIRECTORY + 'mgi/alignment/aligned_bams.test_50.locations.tsv'"
   ]
  },
  {
   "cell_type": "code",
   "execution_count": 38,
   "metadata": {},
   "outputs": [
    {
     "data": {
      "text/plain": [
       "(50,\n",
       " ['/gscmnt/gc2508/dinglab/estorrs/data/rnaediting/cwl/alignment/results/gneiss_align.cwl/79296761-5673-4bb0-b9e9-b32ef117a857/call-gneiss_align.cwl/execution/gneiss_outputs/Aligned.sortedByCoord.out.bam',\n",
       "  '/gscmnt/gc2508/dinglab/estorrs/data/rnaediting/cwl/alignment/results/gneiss_align.cwl/3c15f612-4db6-4c96-b067-d498367ab4bc/call-gneiss_align.cwl/execution/gneiss_outputs/Aligned.sortedByCoord.out.bam',\n",
       "  '/gscmnt/gc2508/dinglab/estorrs/data/rnaediting/cwl/alignment/results/gneiss_align.cwl/a8981a4e-14be-4bf7-9226-ebea7178a329/call-gneiss_align.cwl/execution/gneiss_outputs/Aligned.sortedByCoord.out.bam',\n",
       "  '/gscmnt/gc2508/dinglab/estorrs/data/rnaediting/cwl/alignment/results/gneiss_align.cwl/63d5603f-9e02-4fac-903c-d2edcd7de956/call-gneiss_align.cwl/execution/gneiss_outputs/Aligned.sortedByCoord.out.bam',\n",
       "  '/gscmnt/gc2508/dinglab/estorrs/data/rnaediting/cwl/alignment/results/gneiss_align.cwl/4e7fc0be-cb15-47eb-b333-28a3acf426d4/call-gneiss_align.cwl/execution/gneiss_outputs/Aligned.sortedByCoord.out.bam'])"
      ]
     },
     "execution_count": 38,
     "metadata": {},
     "output_type": "execute_result"
    }
   ],
   "source": [
    "bam_fps = listfiles(CWL_ALIGNMENT_RESULTS_DIRECTORY, regex=r'.bam$')\n",
    "bam_fps = list(bam_fps)\n",
    "len(bam_fps), bam_fps[:5]"
   ]
  },
  {
   "cell_type": "code",
   "execution_count": 39,
   "metadata": {},
   "outputs": [
    {
     "data": {
      "text/plain": [
       "(50,\n",
       " [('C3L-00279.A',\n",
       "   '/gscmnt/gc2508/dinglab/estorrs/data/rnaediting/cwl/alignment/results/gneiss_align.cwl/79296761-5673-4bb0-b9e9-b32ef117a857/'),\n",
       "  ('C3L-00279.T',\n",
       "   '/gscmnt/gc2508/dinglab/estorrs/data/rnaediting/cwl/alignment/results/gneiss_align.cwl/3c15f612-4db6-4c96-b067-d498367ab4bc/'),\n",
       "  ('C3L-00144.T',\n",
       "   '/gscmnt/gc2508/dinglab/estorrs/data/rnaediting/cwl/alignment/results/gneiss_align.cwl/a8981a4e-14be-4bf7-9226-ebea7178a329/'),\n",
       "  ('C3L-00140.A',\n",
       "   '/gscmnt/gc2508/dinglab/estorrs/data/rnaediting/cwl/alignment/results/gneiss_align.cwl/63d5603f-9e02-4fac-903c-d2edcd7de956/'),\n",
       "  ('C3L-00017.T',\n",
       "   '/gscmnt/gc2508/dinglab/estorrs/data/rnaediting/cwl/alignment/results/gneiss_align.cwl/4e7fc0be-cb15-47eb-b333-28a3acf426d4/')])"
      ]
     },
     "execution_count": 39,
     "metadata": {},
     "output_type": "execute_result"
    }
   ],
   "source": [
    "fastq_input_fps = listfiles(CWL_ALIGNMENT_RESULTS_DIRECTORY, regex=r'.fastq$')\n",
    "fastq_input_fps = list(fastq_input_fps)\n",
    "\n",
    "sample_to_sub_directory = {}\n",
    "for fp in fastq_input_fps:\n",
    "    sample = re.sub(r'^.*/(.*).RNA-Seq.R[0-9].(.).fastq', r'\\1.\\2', fp)\n",
    "    sub_directory = re.sub(r'(^.*)call-gneiss_align.*$', r'\\1', fp)\n",
    "    \n",
    "    sample_to_sub_directory[sample] = sub_directory\n",
    "    \n",
    "len(sample_to_sub_directory), [(k, v) for k, v in sample_to_sub_directory.items()][:5]"
   ]
  },
  {
   "cell_type": "code",
   "execution_count": 42,
   "metadata": {},
   "outputs": [
    {
     "data": {
      "text/plain": [
       "(50,\n",
       " [('C3L-00001.A',\n",
       "   '/gscmnt/gc2508/dinglab/estorrs/data/rnaediting/cwl/alignment/results/gneiss_align.cwl/a5348b79-eb38-4a32-8626-43fa8d45f88e/call-gneiss_align.cwl/execution/gneiss_outputs/Aligned.sortedByCoord.out.bam'),\n",
       "  ('C3L-00001.T',\n",
       "   '/gscmnt/gc2508/dinglab/estorrs/data/rnaediting/cwl/alignment/results/gneiss_align.cwl/5ef69396-3817-4903-9c16-4a8d59ef5506/call-gneiss_align.cwl/execution/gneiss_outputs/Aligned.sortedByCoord.out.bam'),\n",
       "  ('C3L-00004.N',\n",
       "   '/gscmnt/gc2508/dinglab/estorrs/data/rnaediting/cwl/alignment/results/gneiss_align.cwl/b4e11ef1-c64b-4061-8ce1-662b4304d696/call-gneiss_align.cwl/execution/gneiss_outputs/Aligned.sortedByCoord.out.bam'),\n",
       "  ('C3L-00004.T',\n",
       "   '/gscmnt/gc2508/dinglab/estorrs/data/rnaediting/cwl/alignment/results/gneiss_align.cwl/a3dcdffc-a5b6-4527-8b8f-61be706b9e61/call-gneiss_align.cwl/execution/gneiss_outputs/Aligned.sortedByCoord.out.bam'),\n",
       "  ('C3L-00006.A',\n",
       "   '/gscmnt/gc2508/dinglab/estorrs/data/rnaediting/cwl/alignment/results/gneiss_align.cwl/7be94cc4-ee66-49ae-aad6-a18552f5b4da/call-gneiss_align.cwl/execution/gneiss_outputs/Aligned.sortedByCoord.out.bam')])"
      ]
     },
     "execution_count": 42,
     "metadata": {},
     "output_type": "execute_result"
    }
   ],
   "source": [
    "sample_fp_tups = []\n",
    "for sample, sub_dir in sample_to_sub_directory.items():\n",
    "    for bam_fp in bam_fps:\n",
    "        if sub_dir in bam_fp:\n",
    "            sample_fp_tups.append((sample, bam_fp))\n",
    "sample_fp_tups = sorted(sample_fp_tups, key=lambda x: x[0])\n",
    "            \n",
    "len(sample_fp_tups), sample_fp_tups[:5]"
   ]
  },
  {
   "cell_type": "code",
   "execution_count": 49,
   "metadata": {},
   "outputs": [],
   "source": [
    "output_str = ''\n",
    "for sample, fp in sample_fp_tups:\n",
    "    output_str += f'{sample}\\t{fp}\\n'\n",
    "\n",
    "f = open(OUTPUT_FP, 'w')\n",
    "f.write(output_str)\n",
    "f.close()"
   ]
  },
  {
   "cell_type": "code",
   "execution_count": null,
   "metadata": {},
   "outputs": [],
   "source": []
  }
 ],
 "metadata": {
  "kernelspec": {
   "display_name": "Python 3",
   "language": "python",
   "name": "python3"
  },
  "language_info": {
   "codemirror_mode": {
    "name": "ipython",
    "version": 3
   },
   "file_extension": ".py",
   "mimetype": "text/x-python",
   "name": "python",
   "nbconvert_exporter": "python",
   "pygments_lexer": "ipython3",
   "version": "3.7.0"
  }
 },
 "nbformat": 4,
 "nbformat_minor": 2
}
